{
 "cells": [
  {
   "cell_type": "code",
   "execution_count": 1,
   "metadata": {},
   "outputs": [
    {
     "name": "stdout",
     "output_type": "stream",
     "text": [
      "Train data :  (4617600, 4)\n",
      "Test  data :  (526917, 3)\n",
      "weather  data :  (20517, 20)\n",
      "key  data :  (45, 2)\n",
      "submission  data :  (526917, 2)\n"
     ]
    }
   ],
   "source": [
    "# Import libraries\n",
    "\n",
    "import numpy as np\n",
    "import pandas as pd\n",
    "import scipy as sp\n",
    "import matplotlib.pyplot as plt\n",
    "import seaborn as sns\n",
    "from patsy import dmatrix\n",
    "import datetime\n",
    "from scipy.stats import chisquare\n",
    "\n",
    "# Pretty display for notebooks\n",
    "\n",
    "%matplotlib inline\n",
    "\n",
    "\n",
    "# Allows the use of display() for DataFrames\n",
    "from IPython.display import display \n",
    "\n",
    "# Ignore the warnings\n",
    "import warnings\n",
    "warnings.filterwarnings('ignore')\n",
    "\n",
    "# Load the dataset\n",
    "train = pd.read_csv(\"../asset/train.csv\")\n",
    "test = pd.read_csv(\"../asset/test.csv\")\n",
    "weather = pd.read_csv(\"../asset/weather.csv\")\n",
    "key = pd.read_csv(\"../asset/key.csv\")\n",
    "submission_example = pd.read_csv(\"../asset/sampleSubmission.csv\")\n",
    "\n",
    "# Success - Display the first record\n",
    "print(\"Train data : \", train.shape)\n",
    "print(\"Test  data : \", test.shape)\n",
    "print(\"weather  data : \", weather.shape)\n",
    "print(\"key  data : \", key.shape)\n",
    "print(\"submission  data : \", submission_example.shape)\n",
    "\n",
    "coulmns_should_be_integer_type_of_data = [\"tmax\", \"tmin\", \"tavg\", \"dewpoint\", \"wetbulb\", \"heat\", \"cool\"]\n",
    "coulmns_should_be_float_type_of_data = [\"snowfall\", \"preciptotal\", \"stnpressure\", \"sealevel\", \"depart\",\\\n",
    "                                        \"resultspeed\", \"resultdir\", \"avgspeed\"]\n",
    "\n",
    "import pickle\n",
    "import costum_functions as cf\n",
    "\n",
    "# 원본을 유지하기 위해서 카피\n",
    "df_train = train.copy()\n",
    "df_weather = weather.copy()\n",
    "df_key = key.copy()\n",
    "df_train_with_weather = pd.read_csv(\"df_train_with_weather_201806251508.csv\")\n",
    "\n",
    "def addDays(date):\n",
    "    temp = date.split(\"-\")\n",
    "    year, month, date = int(temp[0]), int(temp[1]), int(temp[2])\n",
    "    return datetime.datetime(year, month, date).weekday()\n",
    "df_train_with_weather[\"day\"] = df_train_with_weather[\"date\"].apply(addDays)"
   ]
  },
  {
   "cell_type": "code",
   "execution_count": 2,
   "metadata": {},
   "outputs": [
    {
     "data": {
      "text/plain": [
       "4617595    0\n",
       "4617596    0\n",
       "4617597    0\n",
       "4617598    0\n",
       "4617599    2\n",
       "Name: units, dtype: int64"
      ]
     },
     "execution_count": 2,
     "metadata": {},
     "output_type": "execute_result"
    }
   ],
   "source": [
    "df_train_with_weather[\"units\"].tail()"
   ]
  },
  {
   "cell_type": "code",
   "execution_count": 5,
   "metadata": {},
   "outputs": [
    {
     "data": {
      "text/plain": [
       "<matplotlib.axes._subplots.AxesSubplot at 0x1f30b919fd0>"
      ]
     },
     "execution_count": 5,
     "metadata": {},
     "output_type": "execute_result"
    },
    {
     "data": {
      "image/png": "[encoded data removed]",
      "text/plain": [
       "<Figure size 720x360 with 1 Axes>"
      ]
     },
     "metadata": {},
     "output_type": "display_data"
    }
   ],
   "source": [
    "plt.figure(figsize=(10, 5))\n",
    "sns.distplot(df_train_with_weather[\"units\"], kde = False)"
   ]
  },
  {
   "cell_type": "code",
   "execution_count": null,
   "metadata": {},
   "outputs": [],
   "source": [
    "plt.figure(figsize=(10, 5))\n",
    "sns.distplot(df_train_with_weather[\"units\"], kde = False)"
   ]
  },
  {
   "cell_type": "code",
   "execution_count": 15,
   "metadata": {},
   "outputs": [],
   "source": [
    "df = df_train_with_weather[[\"item_nbr\", \"units\"]]"
   ]
  },
  {
   "cell_type": "code",
   "execution_count": 16,
   "metadata": {},
   "outputs": [],
   "source": [
    "df = df.groupby(\"item_nbr\").agg([\"max\", \"mean\"])"
   ]
  },
  {
   "cell_type": "code",
   "execution_count": 17,
   "metadata": {},
   "outputs": [
    {
     "data": {
      "text/html": [
       "<div>\n",
       "<style scoped>\n",
       "    .dataframe tbody tr th:only-of-type {\n",
       "        vertical-align: middle;\n",
       "    }\n",
       "\n",
       "    .dataframe tbody tr th {\n",
       "        vertical-align: top;\n",
       "    }\n",
       "\n",
       "    .dataframe thead tr th {\n",
       "        text-align: left;\n",
       "    }\n",
       "\n",
       "    .dataframe thead tr:last-of-type th {\n",
       "        text-align: right;\n",
       "    }\n",
       "</style>\n",
       "<table border=\"1\" class=\"dataframe\">\n",
       "  <thead>\n",
       "    <tr>\n",
       "      <th></th>\n",
       "      <th colspan=\"2\" halign=\"left\">units</th>\n",
       "    </tr>\n",
       "    <tr>\n",
       "      <th></th>\n",
       "      <th>max</th>\n",
       "      <th>mean</th>\n",
       "    </tr>\n",
       "    <tr>\n",
       "      <th>item_nbr</th>\n",
       "      <th></th>\n",
       "      <th></th>\n",
       "    </tr>\n",
       "  </thead>\n",
       "  <tbody>\n",
       "    <tr>\n",
       "      <th>107</th>\n",
       "      <td>7</td>\n",
       "      <td>0.012837</td>\n",
       "    </tr>\n",
       "    <tr>\n",
       "      <th>108</th>\n",
       "      <td>21</td>\n",
       "      <td>0.049159</td>\n",
       "    </tr>\n",
       "    <tr>\n",
       "      <th>109</th>\n",
       "      <td>30</td>\n",
       "      <td>0.101154</td>\n",
       "    </tr>\n",
       "    <tr>\n",
       "      <th>110</th>\n",
       "      <td>94</td>\n",
       "      <td>0.033702</td>\n",
       "    </tr>\n",
       "    <tr>\n",
       "      <th>111</th>\n",
       "      <td>12</td>\n",
       "      <td>0.006106</td>\n",
       "    </tr>\n",
       "  </tbody>\n",
       "</table>\n",
       "</div>"
      ],
      "text/plain": [
       "         units          \n",
       "           max      mean\n",
       "item_nbr                \n",
       "107          7  0.012837\n",
       "108         21  0.049159\n",
       "109         30  0.101154\n",
       "110         94  0.033702\n",
       "111         12  0.006106"
      ]
     },
     "execution_count": 17,
     "metadata": {},
     "output_type": "execute_result"
    }
   ],
   "source": [
    "df.tail()"
   ]
  },
  {
   "cell_type": "code",
   "execution_count": 18,
   "metadata": {},
   "outputs": [],
   "source": [
    "item_1 = df_train_with_weather[df_train_with_weather[\"item_nbr\"] == 1]"
   ]
  },
  {
   "cell_type": "code",
   "execution_count": 19,
   "metadata": {},
   "outputs": [],
   "source": [
    "item_1_without_tmax_M =item_1[item_1[\"tmax\"] != \"M\"]"
   ]
  },
  {
   "cell_type": "code",
   "execution_count": 20,
   "metadata": {},
   "outputs": [],
   "source": [
    "item_1_without_tmax_M[\"tmax\"] = item_1_without_tmax_M[\"tmax\"].astype(int)"
   ]
  },
  {
   "cell_type": "code",
   "execution_count": 21,
   "metadata": {},
   "outputs": [],
   "source": [
    "xx = np.linspace(-12, 115, 40596)"
   ]
  },
  {
   "cell_type": "code",
   "execution_count": 22,
   "metadata": {},
   "outputs": [],
   "source": [
    "df_train_with_weather[\"date\"] = df_train_with_weather[\"date\"].apply(cf.dateToNumeric)"
   ]
  },
  {
   "cell_type": "code",
   "execution_count": 23,
   "metadata": {},
   "outputs": [
    {
     "data": {
      "text/plain": [
       "array([ 1,  2,  3,  4,  6,  7,  8,  9, 10, 11, 12, 13, 14, 15, 16, 17, 18,\n",
       "       19, 20,  5], dtype=int64)"
      ]
     },
     "execution_count": 23,
     "metadata": {},
     "output_type": "execute_result"
    }
   ],
   "source": [
    "df_weather[\"station_nbr\"].unique()"
   ]
  },
  {
   "cell_type": "code",
   "execution_count": 35,
   "metadata": {
    "scrolled": true
   },
   "outputs": [
    {
     "data": {
      "text/html": [
       "<div>\n",
       "<style scoped>\n",
       "    .dataframe tbody tr th:only-of-type {\n",
       "        vertical-align: middle;\n",
       "    }\n",
       "\n",
       "    .dataframe tbody tr th {\n",
       "        vertical-align: top;\n",
       "    }\n",
       "\n",
       "    .dataframe thead th {\n",
       "        text-align: right;\n",
       "    }\n",
       "</style>\n",
       "<table border=\"1\" class=\"dataframe\">\n",
       "  <thead>\n",
       "    <tr style=\"text-align: right;\">\n",
       "      <th></th>\n",
       "      <th>station_nbr</th>\n",
       "      <th>date</th>\n",
       "      <th>tmax</th>\n",
       "      <th>tmin</th>\n",
       "      <th>tavg</th>\n",
       "      <th>depart</th>\n",
       "      <th>dewpoint</th>\n",
       "      <th>wetbulb</th>\n",
       "      <th>heat</th>\n",
       "      <th>cool</th>\n",
       "      <th>sunrise</th>\n",
       "      <th>sunset</th>\n",
       "      <th>codesum</th>\n",
       "      <th>snowfall</th>\n",
       "      <th>preciptotal</th>\n",
       "      <th>stnpressure</th>\n",
       "      <th>sealevel</th>\n",
       "      <th>resultspeed</th>\n",
       "      <th>resultdir</th>\n",
       "      <th>avgspeed</th>\n",
       "    </tr>\n",
       "  </thead>\n",
       "  <tbody>\n",
       "    <tr>\n",
       "      <th>20512</th>\n",
       "      <td>16</td>\n",
       "      <td>2014-10-31</td>\n",
       "      <td>53</td>\n",
       "      <td>34</td>\n",
       "      <td>44</td>\n",
       "      <td>M</td>\n",
       "      <td>35</td>\n",
       "      <td>41</td>\n",
       "      <td>21</td>\n",
       "      <td>0</td>\n",
       "      <td>-</td>\n",
       "      <td>-</td>\n",
       "      <td></td>\n",
       "      <td>M</td>\n",
       "      <td>0.00</td>\n",
       "      <td>29.90</td>\n",
       "      <td>29.99</td>\n",
       "      <td>4.5</td>\n",
       "      <td>03</td>\n",
       "      <td>5.3</td>\n",
       "    </tr>\n",
       "    <tr>\n",
       "      <th>20513</th>\n",
       "      <td>17</td>\n",
       "      <td>2014-10-31</td>\n",
       "      <td>59</td>\n",
       "      <td>34</td>\n",
       "      <td>47</td>\n",
       "      <td>M</td>\n",
       "      <td>32</td>\n",
       "      <td>41</td>\n",
       "      <td>18</td>\n",
       "      <td>0</td>\n",
       "      <td>-</td>\n",
       "      <td>-</td>\n",
       "      <td>RA</td>\n",
       "      <td>0.0</td>\n",
       "      <td>0.00</td>\n",
       "      <td>29.72</td>\n",
       "      <td>30.39</td>\n",
       "      <td>9.2</td>\n",
       "      <td>01</td>\n",
       "      <td>9.3</td>\n",
       "    </tr>\n",
       "    <tr>\n",
       "      <th>20514</th>\n",
       "      <td>18</td>\n",
       "      <td>2014-10-31</td>\n",
       "      <td>67</td>\n",
       "      <td>49</td>\n",
       "      <td>58</td>\n",
       "      <td>-4</td>\n",
       "      <td>40</td>\n",
       "      <td>50</td>\n",
       "      <td>7</td>\n",
       "      <td>0</td>\n",
       "      <td>0644</td>\n",
       "      <td>1738</td>\n",
       "      <td></td>\n",
       "      <td>0.0</td>\n",
       "      <td>0.00</td>\n",
       "      <td>29.78</td>\n",
       "      <td>30.28</td>\n",
       "      <td>10.6</td>\n",
       "      <td>36</td>\n",
       "      <td>11.2</td>\n",
       "    </tr>\n",
       "    <tr>\n",
       "      <th>20515</th>\n",
       "      <td>19</td>\n",
       "      <td>2014-10-31</td>\n",
       "      <td>45</td>\n",
       "      <td>33</td>\n",
       "      <td>39</td>\n",
       "      <td>-6</td>\n",
       "      <td>24</td>\n",
       "      <td>32</td>\n",
       "      <td>26</td>\n",
       "      <td>0</td>\n",
       "      <td>0624</td>\n",
       "      <td>1646</td>\n",
       "      <td>RA SN</td>\n",
       "      <td>0.1</td>\n",
       "      <td>0.02</td>\n",
       "      <td>29.51</td>\n",
       "      <td>30.24</td>\n",
       "      <td>20.4</td>\n",
       "      <td>34</td>\n",
       "      <td>20.9</td>\n",
       "    </tr>\n",
       "    <tr>\n",
       "      <th>20516</th>\n",
       "      <td>20</td>\n",
       "      <td>2014-10-31</td>\n",
       "      <td>68</td>\n",
       "      <td>50</td>\n",
       "      <td>59</td>\n",
       "      <td>M</td>\n",
       "      <td>39</td>\n",
       "      <td>50</td>\n",
       "      <td>6</td>\n",
       "      <td>0</td>\n",
       "      <td>-</td>\n",
       "      <td>-</td>\n",
       "      <td></td>\n",
       "      <td>0.0</td>\n",
       "      <td>0.00</td>\n",
       "      <td>29.57</td>\n",
       "      <td>30.27</td>\n",
       "      <td>10.5</td>\n",
       "      <td>36</td>\n",
       "      <td>11.2</td>\n",
       "    </tr>\n",
       "  </tbody>\n",
       "</table>\n",
       "</div>"
      ],
      "text/plain": [
       "       station_nbr        date tmax tmin tavg depart dewpoint wetbulb heat  \\\n",
       "20512           16  2014-10-31   53   34   44      M       35      41   21   \n",
       "20513           17  2014-10-31   59   34   47      M       32      41   18   \n",
       "20514           18  2014-10-31   67   49   58     -4       40      50    7   \n",
       "20515           19  2014-10-31   45   33   39     -6       24      32   26   \n",
       "20516           20  2014-10-31   68   50   59      M       39      50    6   \n",
       "\n",
       "      cool sunrise sunset codesum snowfall preciptotal stnpressure sealevel  \\\n",
       "20512    0       -      -                M        0.00       29.90    29.99   \n",
       "20513    0       -      -      RA      0.0        0.00       29.72    30.39   \n",
       "20514    0    0644   1738              0.0        0.00       29.78    30.28   \n",
       "20515    0    0624   1646   RA SN      0.1        0.02       29.51    30.24   \n",
       "20516    0       -      -              0.0        0.00       29.57    30.27   \n",
       "\n",
       "      resultspeed resultdir avgspeed  \n",
       "20512         4.5        03      5.3  \n",
       "20513         9.2        01      9.3  \n",
       "20514        10.6        36     11.2  \n",
       "20515        20.4        34     20.9  \n",
       "20516        10.5        36     11.2  "
      ]
     },
     "execution_count": 35,
     "metadata": {},
     "output_type": "execute_result"
    }
   ],
   "source": [
    "df_weather.tail()"
   ]
  },
  {
   "cell_type": "code",
   "execution_count": 12,
   "metadata": {
    "scrolled": false
   },
   "outputs": [
    {
     "data": {
      "image/png": "[encoded data removed]",
      "text/plain": [
       "<Figure size 360x360 with 6 Axes>"
      ]
     },
     "metadata": {},
     "output_type": "display_data"
    }
   ],
   "source": [
    "# 3번 스테이션의 pair plot\n",
    "df = df_train_with_weather[df_train_with_weather[\"station_nbr\"] == 3]\n",
    "df = df_train_with_weather[df_train_with_weather[\"item_nbr\"] == 45]\n",
    "\n",
    "\n",
    "def changeType(a):\n",
    "    if(a != \"M\"):\n",
    "        return int(a)\n",
    "    else:\n",
    "        return 0\n",
    "\n",
    "def changeFloatType(a):\n",
    "    a = str(a).strip()\n",
    "    if(a != \"M\" and a.strip() != \"T\"):\n",
    "        return float(a)\n",
    "    else:\n",
    "        return 0\n",
    "\n",
    "df[\"tavg\"] = df[\"tavg\"].apply(changeType)\n",
    "df[\"units\"] = df[\"units\"].apply(changeType)\n",
    "df[\"heat\"] = df[\"heat\"].apply(changeType)\n",
    "df[\"cool\"] = df[\"cool\"].apply(changeFloatType)\n",
    "df[\"depart\"] = df[\"depart\"].apply(changeType)\n",
    "\n",
    "cols = [\"tavg\", \"units\"]\n",
    "sns.pairplot(df[cols])\n",
    "plt.show()"
   ]
  }
 ],
 "metadata": {
  "kernelspec": {
   "display_name": "Python 3",
   "language": "python",
   "name": "python3"
  },
  "language_info": {
   "codemirror_mode": {
    "name": "ipython",
    "version": 3
   },
   "file_extension": ".py",
   "mimetype": "text/x-python",
   "name": "python",
   "nbconvert_exporter": "python",
   "pygments_lexer": "ipython3",
   "version": "3.6.5"
  }
 },
 "nbformat": 4,
 "nbformat_minor": 2
}
