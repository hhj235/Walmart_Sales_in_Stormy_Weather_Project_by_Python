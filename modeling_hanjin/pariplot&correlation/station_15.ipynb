{
 "cells": [
  {
   "cell_type": "code",
   "execution_count": 3,
   "metadata": {},
   "outputs": [
    {
     "name": "stdout",
     "output_type": "stream",
     "text": [
      "Train data :  (4617600, 4)\n",
      "Test  data :  (526917, 3)\n",
      "weather  data :  (20517, 20)\n",
      "key  data :  (45, 2)\n",
      "submission  data :  (526917, 2)\n"
     ]
    }
   ],
   "source": [
    "# Import libraries\n",
    "\n",
    "import numpy as np\n",
    "import pandas as pd\n",
    "import scipy as sp\n",
    "import matplotlib.pyplot as plt\n",
    "import seaborn as sns\n",
    "from patsy import dmatrix\n",
    "import datetime\n",
    "from scipy.stats import chisquare\n",
    "\n",
    "# Pretty display for notebooks\n",
    "\n",
    "%matplotlib inline\n",
    "\n",
    "\n",
    "# Allows the use of display() for DataFrames\n",
    "from IPython.display import display \n",
    "\n",
    "# Ignore the warnings\n",
    "import warnings\n",
    "warnings.filterwarnings('ignore')\n",
    "\n",
    "# Load the dataset\n",
    "train = pd.read_csv(\"../asset/train.csv\")\n",
    "test = pd.read_csv(\"../asset/test.csv\")\n",
    "weather = pd.read_csv(\"../asset/weather.csv\")\n",
    "key = pd.read_csv(\"../asset/key.csv\")\n",
    "submission_example = pd.read_csv(\"../asset/sampleSubmission.csv\")\n",
    "\n",
    "# Success - Display the first record\n",
    "print(\"Train data : \", train.shape)\n",
    "print(\"Test  data : \", test.shape)\n",
    "print(\"weather  data : \", weather.shape)\n",
    "print(\"key  data : \", key.shape)\n",
    "print(\"submission  data : \", submission_example.shape)\n",
    "\n",
    "coulmns_should_be_integer_type_of_data = [\"tmax\", \"tmin\", \"tavg\", \"dewpoint\", \"wetbulb\", \"heat\", \"cool\"]\n",
    "coulmns_should_be_float_type_of_data = [\"snowfall\", \"preciptotal\", \"stnpressure\", \"sealevel\", \"depart\",\\\n",
    "                                        \"resultspeed\", \"resultdir\", \"avgspeed\"]\n",
    "\n",
    "import pickle\n",
    "import costum_functions as cf\n",
    "\n",
    "# 원본을 유지하기 위해서 카피\n",
    "df_train = train.copy()\n",
    "df_weather = weather.copy()\n",
    "df_key = key.copy()\n",
    "\n",
    "def addDays(date):\n",
    "    temp = date.split(\"-\")\n",
    "    year, month, date = int(temp[0]), int(temp[1]), int(temp[2])\n",
    "    return datetime.datetime(year, month, date).weekday()"
   ]
  },
  {
   "cell_type": "code",
   "execution_count": 4,
   "metadata": {},
   "outputs": [],
   "source": [
    "def changeTypeToInt(a):\n",
    "    temp = str(a).strip()\n",
    "    if temp == 'M':\n",
    "        return np.nan\n",
    "    else:\n",
    "        return int(a)\n",
    "    \n",
    "def changeTypeToFloat(a):\n",
    "    temp = str(a).strip()\n",
    "    if temp == 'M':\n",
    "        return np.nan\n",
    "    elif temp == 'T' or temp == '-':\n",
    "        return 0\n",
    "    else:\n",
    "        return float(a)\n",
    "    \n",
    "def remove_m_row(df, columns = []):\n",
    "    \"\"\"\n",
    "        m_row를 제거할 data_frame 파일을 df 패러미터로 넣어준다.\n",
    "        columns를 패러미터로 안넣어줄 경우에는 전체 컬럼의 m값을 날린다.\n",
    "        columns를 넣어주는 경우에는 반드시 리스트로 넣어줄것!! 예:) [\"tmax\", \"tmin\"]\n",
    "        그리고 처리된 df를 리턴하는 것이므로!! 원하는 변수명으로 받아줄 것\n",
    "        예:) df_test = remove_m_row(df_weather, [\"tmax\", \"tmin\"])\n",
    "    \"\"\"\n",
    "    result_df = df.copy()\n",
    "    if len(columns) == 0:\n",
    "        columns = result_df.columns\n",
    "    cols_int = [\"tmax\", \"tmin\", \"tavg\", \"dewpoint\", \"wetbulb\", \"heat\", \"cool\"]\n",
    "    cols_float = [\"sunrise\",\"sunset\",\"snowfall\", \"preciptotal\", \"stnpressure\", \"sealevel\", \"depart\", \"resultspeed\", \"resultdir\", \"avgspeed\"]\n",
    "    for column in columns:\n",
    "        print(column)\n",
    "        if column in cols_int:\n",
    "            result_df[column] = result_df[column].apply(changeTypeToInt)\n",
    "        elif column in cols_float:\n",
    "            result_df[column] = result_df[column].apply(changeTypeToFloat)\n",
    "    return result_df.dropna()"
   ]
  },
  {
   "cell_type": "code",
   "execution_count": 5,
   "metadata": {},
   "outputs": [
    {
     "name": "stdout",
     "output_type": "stream",
     "text": [
      "tmax\n",
      "tmin\n",
      "tavg\n",
      "depart\n",
      "station_nbr\n",
      "date\n",
      "tmax\n",
      "tmin\n",
      "tavg\n",
      "depart\n",
      "dewpoint\n",
      "wetbulb\n",
      "heat\n",
      "cool\n",
      "sunrise\n",
      "sunset\n",
      "codesum\n",
      "preciptotal\n",
      "stnpressure\n",
      "sealevel\n",
      "resultspeed\n",
      "resultdir\n",
      "avgspeed\n",
      "원래 station_15의 row 개수1035\n",
      "원래 t관련 컬럼의 m value를 포함한 row를 날린 후 전체 개수997\n",
      "원래 전체 컬럼의 m value를 포함한 row를 날린 후 전체 개수988\n"
     ]
    }
   ],
   "source": [
    "station_15 = df_weather[df_weather[\"station_nbr\"] == 15].reset_index(drop=True)\n",
    "station_15.drop(\"snowfall\", axis=1, inplace=True)\n",
    "# station_15.drop(\"depart\", axis=1, inplace=True)\n",
    "station_15_only_dropped_t = remove_m_row(station_15, [\"tmax\", \"tmin\", \"tavg\",\"depart\"])\n",
    "station_15_dropped_all = remove_m_row(station_15)\n",
    "station_15_t = station_15_only_dropped_t[[\"tmax\",\"tmin\",\"tavg\",\"depart\"]]\n",
    "print(\"원래 station_15의 row 개수\" + str(len(station_15)))\n",
    "print(\"원래 t관련 컬럼의 m value를 포함한 row를 날린 후 전체 개수\" + str(len(station_15_only_dropped_t)))\n",
    "print(\"원래 전체 컬럼의 m value를 포함한 row를 날린 후 전체 개수\" + str(len(station_15_dropped_all)))"
   ]
  },
  {
   "cell_type": "code",
   "execution_count": 6,
   "metadata": {},
   "outputs": [
    {
     "data": {
      "image/png": "[encoded data removed]",
      "text/plain": [
       "<Figure size 432x288 with 2 Axes>"
      ]
     },
     "metadata": {},
     "output_type": "display_data"
    }
   ],
   "source": [
    "cmap = sns.light_palette(\"darkgray\", as_cmap=True)\n",
    "sns.heatmap(station_15_t.corr(), annot=True, cmap=cmap)\n",
    "plt.show()"
   ]
  },
  {
   "cell_type": "code",
   "execution_count": 7,
   "metadata": {},
   "outputs": [
    {
     "name": "stdout",
     "output_type": "stream",
     "text": [
      "dewpoint\n",
      "wetbulb\n",
      "station_nbr\n",
      "date\n",
      "tmax\n",
      "tmin\n",
      "tavg\n",
      "depart\n",
      "dewpoint\n",
      "wetbulb\n",
      "heat\n",
      "cool\n",
      "sunrise\n",
      "sunset\n",
      "codesum\n",
      "preciptotal\n",
      "stnpressure\n",
      "sealevel\n",
      "resultspeed\n",
      "resultdir\n",
      "avgspeed\n",
      "원래 station_15의 row 개수1035\n",
      "m value를 포함한 row를 날린 후 전체 개수1026\n",
      "원래 전체 컬럼의 m value를 포함한 row를 날린 후 전체 개수988\n"
     ]
    }
   ],
   "source": [
    "column = [\"dewpoint\", \"wetbulb\"]\n",
    "station_15 = df_weather[df_weather[\"station_nbr\"] == 15].reset_index(drop=True)\n",
    "station_15.drop(\"snowfall\", axis=1, inplace=True)\n",
    "# station_15.drop(\"depart\", axis=1, inplace=True)\n",
    "station_15_only_dropped_t = remove_m_row(station_15, column)\n",
    "station_15_dropped_all = remove_m_row(station_15)\n",
    "station_15_t = station_15_only_dropped_t[column]\n",
    "print(\"원래 station_15의 row 개수\" + str(len(station_15)))\n",
    "print(\"m value를 포함한 row를 날린 후 전체 개수\" + str(len(station_15_only_dropped_t)))\n",
    "print(\"원래 전체 컬럼의 m value를 포함한 row를 날린 후 전체 개수\" + str(len(station_15_dropped_all)))"
   ]
  },
  {
   "cell_type": "code",
   "execution_count": 8,
   "metadata": {},
   "outputs": [
    {
     "data": {
      "image/png": "[encoded data removed]",
      "text/plain": [
       "<Figure size 432x288 with 2 Axes>"
      ]
     },
     "metadata": {},
     "output_type": "display_data"
    }
   ],
   "source": [
    "cmap = sns.light_palette(\"darkgray\", as_cmap=True)\n",
    "sns.heatmap(station_15_t.corr(), annot=True, cmap=cmap)\n",
    "plt.show()"
   ]
  },
  {
   "cell_type": "code",
   "execution_count": 9,
   "metadata": {},
   "outputs": [
    {
     "name": "stdout",
     "output_type": "stream",
     "text": [
      "heat\n",
      "cool\n",
      "sunrise\n",
      "sunset\n",
      "원래 station_15의 row 개수1035\n",
      "m value를 포함한 row를 날린 후 전체 개수1030\n"
     ]
    }
   ],
   "source": [
    "column = [\"heat\", \"cool\", \"sunrise\", \"sunset\"]\n",
    "station_15 = df_weather[df_weather[\"station_nbr\"] == 15].reset_index(drop=True)\n",
    "station_15.drop(\"snowfall\", axis=1, inplace=True)\n",
    "# station_15.drop(\"depart\", axis=1, inplace=True)\n",
    "station_15_only_dropped_t = remove_m_row(station_15, column)\n",
    "# station_15_dropped_all = remove_m_row(station_15)\n",
    "station_15_t = station_15_only_dropped_t[column]\n",
    "print(\"원래 station_15의 row 개수\" + str(len(station_15)))\n",
    "print(\"m value를 포함한 row를 날린 후 전체 개수\" + str(len(station_15_only_dropped_t)))\n",
    "# print(\"원래 전체 컬럼의 m value를 포함한 row를 날린 후 전체 개수\" + str(len(station_15_dropped_all)))"
   ]
  },
  {
   "cell_type": "code",
   "execution_count": 10,
   "metadata": {},
   "outputs": [
    {
     "data": {
      "image/png": "[encoded data removed]",
      "text/plain": [
       "<Figure size 432x288 with 2 Axes>"
      ]
     },
     "metadata": {},
     "output_type": "display_data"
    }
   ],
   "source": [
    "# np.astype(station_15_t[[\"sunrise\",\"sunset\"]],float)\n",
    "cmap = sns.light_palette(\"darkgray\", as_cmap=True)\n",
    "sns.heatmap(station_15_t.corr(), annot=True, cmap=cmap)\n",
    "plt.show()"
   ]
  },
  {
   "cell_type": "code",
   "execution_count": 11,
   "metadata": {},
   "outputs": [
    {
     "name": "stdout",
     "output_type": "stream",
     "text": [
      "snowfall\n",
      "preciptotal\n",
      "station_nbr\n",
      "date\n",
      "tmax\n",
      "tmin\n",
      "tavg\n",
      "depart\n",
      "dewpoint\n",
      "wetbulb\n",
      "heat\n",
      "cool\n",
      "sunrise\n",
      "sunset\n",
      "codesum\n",
      "snowfall\n",
      "preciptotal\n",
      "stnpressure\n",
      "sealevel\n",
      "resultspeed\n",
      "resultdir\n",
      "avgspeed\n",
      "원래 station_15의 row 개수1035\n",
      "m value를 포함한 row를 날린 후 전체 개수1031\n",
      "원래 전체 컬럼의 m value를 포함한 row를 날린 후 전체 개수985\n"
     ]
    }
   ],
   "source": [
    "column = [\"snowfall\", \"preciptotal\"]\n",
    "station_15 = df_weather[df_weather[\"station_nbr\"] == 15].reset_index(drop=True)\n",
    "# station_15.drop(\"snowfall\", axis=1, inplace=True)\n",
    "# station_15.drop(\"depart\", axis=1, inplace=True)\n",
    "station_15_only_dropped_t = remove_m_row(station_15, column)\n",
    "station_15_dropped_all = remove_m_row(station_15)\n",
    "station_15_t = station_15_only_dropped_t[column]\n",
    "print(\"원래 station_15의 row 개수\" + str(len(station_15)))\n",
    "print(\"m value를 포함한 row를 날린 후 전체 개수\" + str(len(station_15_only_dropped_t)))\n",
    "print(\"원래 전체 컬럼의 m value를 포함한 row를 날린 후 전체 개수\" + str(len(station_15_dropped_all)))"
   ]
  },
  {
   "cell_type": "code",
   "execution_count": 12,
   "metadata": {},
   "outputs": [
    {
     "data": {
      "image/png": "[encoded data removed]",
      "text/plain": [
       "<Figure size 432x288 with 2 Axes>"
      ]
     },
     "metadata": {},
     "output_type": "display_data"
    }
   ],
   "source": [
    "cmap = sns.light_palette(\"darkgray\", as_cmap=True)\n",
    "sns.heatmap(station_15_t.corr(), annot=True, cmap=cmap)\n",
    "plt.show()"
   ]
  },
  {
   "cell_type": "code",
   "execution_count": 13,
   "metadata": {},
   "outputs": [
    {
     "name": "stdout",
     "output_type": "stream",
     "text": [
      "stnpressure\n",
      "sealevel\n",
      "station_nbr\n",
      "date\n",
      "tmax\n",
      "tmin\n",
      "tavg\n",
      "depart\n",
      "dewpoint\n",
      "wetbulb\n",
      "heat\n",
      "cool\n",
      "sunrise\n",
      "sunset\n",
      "codesum\n",
      "snowfall\n",
      "preciptotal\n",
      "stnpressure\n",
      "sealevel\n",
      "resultspeed\n",
      "resultdir\n",
      "avgspeed\n",
      "원래 station_15의 row 개수1035\n",
      "m value를 포함한 row를 날린 후 전체 개수1025\n",
      "원래 전체 컬럼의 m value를 포함한 row를 날린 후 전체 개수985\n"
     ]
    }
   ],
   "source": [
    "column = [\"stnpressure\", \"sealevel\"]\n",
    "station_15 = df_weather[df_weather[\"station_nbr\"] == 15].reset_index(drop=True)\n",
    "# station_15.drop(\"snowfall\", axis=1, inplace=True)\n",
    "# station_15.drop(\"depart\", axis=1, inplace=True)\n",
    "station_15_only_dropped_t = remove_m_row(station_15, column)\n",
    "station_15_dropped_all = remove_m_row(station_15)\n",
    "station_15_t = station_15_only_dropped_t[column]\n",
    "print(\"원래 station_15의 row 개수\" + str(len(station_15)))\n",
    "print(\"m value를 포함한 row를 날린 후 전체 개수\" + str(len(station_15_only_dropped_t)))\n",
    "print(\"원래 전체 컬럼의 m value를 포함한 row를 날린 후 전체 개수\" + str(len(station_15_dropped_all)))"
   ]
  },
  {
   "cell_type": "code",
   "execution_count": 14,
   "metadata": {},
   "outputs": [
    {
     "data": {
      "image/png": "[encoded data removed]",
      "text/plain": [
       "<Figure size 432x288 with 2 Axes>"
      ]
     },
     "metadata": {},
     "output_type": "display_data"
    }
   ],
   "source": [
    "cmap = sns.light_palette(\"darkgray\", as_cmap=True)\n",
    "sns.heatmap(station_15_t.corr(), annot=True, cmap=cmap)\n",
    "plt.show()"
   ]
  },
  {
   "cell_type": "code",
   "execution_count": 15,
   "metadata": {},
   "outputs": [
    {
     "name": "stdout",
     "output_type": "stream",
     "text": [
      "resultspeed\n",
      "resultdir\n",
      "avgspeed\n",
      "station_nbr\n",
      "date\n",
      "tmax\n",
      "tmin\n",
      "tavg\n",
      "depart\n",
      "dewpoint\n",
      "wetbulb\n",
      "heat\n",
      "cool\n",
      "sunrise\n",
      "sunset\n",
      "codesum\n",
      "snowfall\n",
      "preciptotal\n",
      "stnpressure\n",
      "sealevel\n",
      "resultspeed\n",
      "resultdir\n",
      "avgspeed\n",
      "원래 station_15의 row 개수1035\n",
      "m value를 포함한 row를 날린 후 전체 개수1027\n",
      "원래 전체 컬럼의 m value를 포함한 row를 날린 후 전체 개수985\n"
     ]
    }
   ],
   "source": [
    "column = [\"resultspeed\", \"resultdir\", \"avgspeed\"]\n",
    "station_15 = df_weather[df_weather[\"station_nbr\"] == 15].reset_index(drop=True)\n",
    "# station_15.drop(\"snowfall\", axis=1, inplace=True)\n",
    "# station_15.drop(\"depart\", axis=1, inplace=True)\n",
    "station_15_only_dropped_t = remove_m_row(station_15, column)\n",
    "station_15_dropped_all = remove_m_row(station_15)\n",
    "station_15_t = station_15_only_dropped_t[column]\n",
    "print(\"원래 station_15의 row 개수\" + str(len(station_15)))\n",
    "print(\"m value를 포함한 row를 날린 후 전체 개수\" + str(len(station_15_only_dropped_t)))\n",
    "print(\"원래 전체 컬럼의 m value를 포함한 row를 날린 후 전체 개수\" + str(len(station_15_dropped_all)))"
   ]
  },
  {
   "cell_type": "code",
   "execution_count": 16,
   "metadata": {},
   "outputs": [
    {
     "data": {
      "image/png": "[encoded data removed]",
      "text/plain": [
       "<Figure size 432x288 with 2 Axes>"
      ]
     },
     "metadata": {},
     "output_type": "display_data"
    }
   ],
   "source": [
    "cmap = sns.light_palette(\"darkgray\", as_cmap=True)\n",
    "sns.heatmap(station_15_t.corr(), annot=True, cmap=cmap)\n",
    "plt.show()"
   ]
  }
 ],
 "metadata": {
  "kernelspec": {
   "display_name": "Python 3",
   "language": "python",
   "name": "python3"
  },
  "language_info": {
   "codemirror_mode": {
    "name": "ipython",
    "version": 3
   },
   "file_extension": ".py",
   "mimetype": "text/x-python",
   "name": "python",
   "nbconvert_exporter": "python",
   "pygments_lexer": "ipython3",
   "version": "3.6.5"
  }
 },
 "nbformat": 4,
 "nbformat_minor": 2
}
